{
  "nbformat": 4,
  "nbformat_minor": 0,
  "metadata": {
    "colab": {
      "provenance": [],
      "authorship_tag": "ABX9TyPvqBxIPuhqQByrKAgeHOuE",
      "include_colab_link": true
    },
    "kernelspec": {
      "name": "python3",
      "display_name": "Python 3"
    },
    "language_info": {
      "name": "python"
    }
  },
  "cells": [
    {
      "cell_type": "markdown",
      "metadata": {
        "id": "view-in-github",
        "colab_type": "text"
      },
      "source": [
        "<a href=\"https://colab.research.google.com/github/sudhirnaiduavula/icp1/blob/main/Untitled0.ipynb\" target=\"_parent\"><img src=\"https://colab.research.google.com/assets/colab-badge.svg\" alt=\"Open In Colab\"/></a>"
      ]
    },
    {
      "cell_type": "code",
      "execution_count": null,
      "metadata": {
        "id": "481a2nVPa-_Q"
      },
      "outputs": [],
      "source": []
    },
    {
      "cell_type": "code",
      "source": [
        "# Nested Interactive Loop\n",
        "def convert_heights_interactive(heights_inches):\n",
        "  heights_cm = []\n",
        "  for height_inches in heights_inches:\n",
        "    height_cm = height_inches * 2.54\n",
        "    heights_cm.append(height_cm)\n",
        "  return heights_cm\n",
        "\n",
        "# List Comprehensions\n",
        "def convert_heights_comprehension(heights_inches):\n",
        "  heights_cm = [height_inches * 2.54 for height_inches in heights_inches]\n",
        "  return heights_cm\n",
        "\n",
        "# Main function\n",
        "def main():\n",
        "  heights_inches = []\n",
        "  while True:\n",
        "    height_inches = input(\"Enter height in inches (or 'q' to quit): \")\n",
        "    if height_inches == 'q':\n",
        "      break\n",
        "    heights_inches.append(float(height_inches))\n",
        "\n",
        "  # Using nested interactive loop\n",
        "  heights_cm_interactive = convert_heights_interactive(heights_inches)\n",
        "  print(\"Heights in centimeters using nested interactive loop:\")\n",
        "  for height_cm in heights_cm_interactive:\n",
        "    print(height_cm)\n",
        "\n",
        "  # Using list comprehensions\n",
        "  heights_cm_comprehension = convert_heights_comprehension(heights_inches)\n",
        "  print(\"Heights in centimeters using list comprehensions:\")\n",
        "  for height_cm in heights_cm_comprehension:\n",
        "    print(height_cm)\n",
        "\n",
        "if __name__ == \"__main__\":\n",
        "  main()"
      ],
      "metadata": {
        "colab": {
          "base_uri": "https://localhost:8080/"
        },
        "id": "b2E9e2f_TRkn",
        "outputId": "0899b08f-2080-4109-f610-88a80a0242d5"
      },
      "execution_count": 1,
      "outputs": [
        {
          "output_type": "stream",
          "name": "stdout",
          "text": [
            "Enter height in inches (or 'q' to quit): 151\n",
            "Enter height in inches (or 'q' to quit): 145\n",
            "Enter height in inches (or 'q' to quit): 148\n",
            "Enter height in inches (or 'q' to quit): 135\n",
            "Enter height in inches (or 'q' to quit): q\n",
            "Heights in centimeters using nested interactive loop:\n",
            "383.54\n",
            "368.3\n",
            "375.92\n",
            "342.9\n",
            "Heights in centimeters using list comprehensions:\n",
            "383.54\n",
            "368.3\n",
            "375.92\n",
            "342.9\n"
          ]
        }
      ]
    },
    {
      "cell_type": "code",
      "source": [],
      "metadata": {
        "id": "H9aB9o7KbMDu"
      },
      "execution_count": null,
      "outputs": []
    },
    {
      "cell_type": "code",
      "source": [
        "def fullname(first_name, last_name):\n",
        "    \"\"\"\n",
        "    Concatenates the first name and last name into a full name.\n",
        "    \"\"\"\n",
        "    return f\"{first_name} {last_name}\"\n",
        "\n",
        "def string_alternative(full_name):\n",
        "    \"\"\"\n",
        "    Returns every other character from the full name string.\n",
        "    \"\"\"\n",
        "    return full_name[::2]\n",
        "\n",
        "def main():\n",
        "    # Get user input for first name and last name\n",
        "    first_name = input(\"Enter your first name: \").strip()\n",
        "    last_name = input(\"Enter your last name: \").strip()\n",
        "\n",
        "    # Generate the full name\n",
        "    full_name = fullname(first_name, last_name)\n",
        "\n",
        "    # Print the full name\n",
        "    print(f\"Full name: {full_name}\")\n",
        "\n",
        "    # Get every other character from the full name\n",
        "    alternative_string = string_alternative(full_name)\n",
        "\n",
        "    # Print the result\n",
        "    print(f\"Every other character in the full name: {alternative_string}\")\n",
        "\n",
        "if __name__ == \"__main__\":\n",
        "    main()\n"
      ],
      "metadata": {
        "colab": {
          "base_uri": "https://localhost:8080/"
        },
        "id": "KKutpzNWTv0W",
        "outputId": "f99329e8-1b45-4f3e-e6dc-429af5e49526"
      },
      "execution_count": 3,
      "outputs": [
        {
          "output_type": "stream",
          "name": "stdout",
          "text": [
            "Enter your first name: sudhir\n",
            "Enter your last name: naidu\n",
            "Full name: sudhir naidu\n",
            "Every other character in the full name: sdi ad\n"
          ]
        }
      ]
    },
    {
      "cell_type": "code",
      "source": [
        "def count_words_in_line(line):\n",
        "    return len(line.split())\n",
        "\n",
        "def process_file(input_file, output_file):\n",
        "    with open(input_file, 'r') as infile, open(output_file, 'w') as outfile:\n",
        "        # Read and process each line\n",
        "        for line in infile:\n",
        "            line = line.strip()\n",
        "            word_count = count_words_in_line(line)\n",
        "            result = f\"{line}\\nWord Count: {word_count}\\n\"\n",
        "            print(result.strip())\n",
        "            outfile.write(result)\n",
        "\n",
        "def main():\n",
        "    input_file = 'input.txt'\n",
        "    output_file = 'output.txt'\n",
        "    process_file(input_file, output_file)\n",
        "\n",
        "if __name__ == \"__main__\":\n",
        "    main()\n"
      ],
      "metadata": {
        "id": "8QMI6QgJbSko"
      },
      "execution_count": null,
      "outputs": []
    }
  ]
}